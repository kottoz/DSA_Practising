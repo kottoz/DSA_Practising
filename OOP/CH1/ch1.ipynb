{
 "cells": [
  {
   "cell_type": "code",
   "execution_count": null,
   "metadata": {},
   "outputs": [],
   "source": []
  },
  {
   "cell_type": "code",
   "execution_count": 110,
   "metadata": {},
   "outputs": [],
   "source": [
    "import logging\n",
    "from dataclasses import dataclass, field\n",
    "from typing import Optional, Any\n",
    "from enum import Enum, unique, EnumMeta \n",
    "# clist is the best for performance to use if you intend to use single or double linked list it's based on CPython.\n",
    "# from cllist import sllist as csllist # it needs VS tools, i'm using VS code\n",
    "# linkedlist comparasion https://xwu64.github.io/2020/08/28/Comparison-of-Python-Linked-List-Modules-llist-pyllist-cllist/\n",
    "# i will use a built in workaround lin from collections\n",
    "from collections import deque\n",
    "logging.basicConfig(filename='logging_file.log',\n",
    "                    filemode='a',\n",
    "                    format='%(asctime)s,%(msecs)d %(name)s %(levelname)s %(message)s',\n",
    "                    datefmt='%H:%M:%S',\n",
    "                    level=logging.DEBUG)"
   ]
  },
  {
   "cell_type": "code",
   "execution_count": 2,
   "metadata": {},
   "outputs": [],
   "source": [
    "# TODO: add dataclass and default_factoury field \n",
    "# Guitar class\n",
    "class Guitar():\n",
    "    def __init__(self, serialNumber: str, price: float, builder: str, model: str, typePar: str, backWood: str, topWood: str):\n",
    "\n",
    "        self.serialNumber: str = serialNumber\n",
    "        self._price: float = price\n",
    "        self.builder: str = builder\n",
    "        self.typePar: str = typePar\n",
    "        self.model: str = model\n",
    "        self.backWood: str = backWood\n",
    "        self.topWood: str = topWood\n",
    "\n",
    "    def getSerialNumber(self) -> str:\n",
    "        return self.serialNumber\n",
    "    \n",
    "    @property\n",
    "    def price(self) -> float:\n",
    "        return self._price\n",
    "    \n",
    "    @price.setter\n",
    "    def price(self, price: float):\n",
    "        try:\n",
    "            if price <= 0:\n",
    "                raise ValueError\n",
    "            self._price = price\n",
    "        except ValueError:\n",
    "            logging.exception(\n",
    "                \"Zero or negative price is invalid input for price\")\n",
    "\n",
    "    def getBuilder(self) -> str:\n",
    "        return self.builder\n",
    "\n",
    "    def getTopWood(self) -> str:\n",
    "        return self.topWood\n",
    "\n",
    "    def getBackWood(self) -> str:\n",
    "        return self.backWood\n"
   ]
  },
  {
   "cell_type": "code",
   "execution_count": 3,
   "metadata": {},
   "outputs": [],
   "source": [
    "# TODO: add dataclass and default_factoury field \n",
    "\n",
    "# Inventory class\n",
    "class Inventory:\n",
    "    def __init__(self) -> None:\n",
    "        self.guitars: 'deque' = deque()\n",
    "\n",
    "    def addGuitar(self, serialNumber: str, price: float, builder: str, model: str, typePar: str, backWood: str, topWood: str):\n",
    "        # Here is a dependancy\n",
    "        guitar_to_be_added = Guitar(\n",
    "            serialNumber, price, builder, model, typePar, backWood, topWood)\n",
    "        self.guitars.append(guitar_to_be_added)\n",
    "\n",
    "    def getGuitar(self, serialNumber: str) -> Optional['Guitar']:\n",
    "        for guitar in self.guitars:\n",
    "            if serialNumber == guitar.serialNumber:\n",
    "                return guitar\n",
    "        return None\n",
    "\n",
    "    def search(self, given_guitar: 'Guitar') -> Optional[\"Guitar\"]:\n",
    "        # search in this version compares each parameter on the given guitar to each attribute in different guitars inside the inventory --> too much searching\n",
    "        # TODO: optimiz speed, to get more efficient code\n",
    "        # pas throuh all indexed guitars in the inventory\n",
    "        guitar: 'Guitar'\n",
    "        for guitar in self.guitars:\n",
    "            # check if the guitar's builder is not None or Empty and also builder\n",
    "            \n",
    "            builder = given_guitar.builder\n",
    "            if builder is not None and builder != \"\" and guitar.builder == builder:\n",
    "                continue\n",
    "            \n",
    "            # check if the guitar's type is not None or Empty and also type value itself\n",
    "            typePar = given_guitar.typePar\n",
    "            if typePar is not None and typePar != \"\" and guitar.typePar == typePar:\n",
    "                continue\n",
    "            \n",
    "            # check if the guitar's model is not None or Empty and also builder\n",
    "            model = given_guitar.model\n",
    "            if model is not None and model != \"\" and guitar.model == model:\n",
    "                continue\n",
    "            \n",
    "            # check if the guitar's backWood is not None or Empty and also type value itself\n",
    "            backWood = given_guitar.backWood\n",
    "            if backWood is not None and backWood != \"\" and guitar.backWood == backWood:\n",
    "                continue\n",
    "\n",
    "            # check if the guitar's topWood is not None or Empty and also type value itself\n",
    "            topWood = given_guitar.topWood\n",
    "            if topWood is not None and topWood != \"\" and guitar.topWood == topWood:\n",
    "                continue\n",
    "        return None"
   ]
  },
  {
   "cell_type": "code",
   "execution_count": 12,
   "metadata": {},
   "outputs": [],
   "source": [
    "# Tester code \n",
    "@dataclass (init=True)\n",
    "class FindGuitarTester:\n",
    "    def __post_init__(self) -> None:\n",
    "        inventory: \"Inventory\" = Inventory()\n",
    "        self.initializeInventory(inventory)\n",
    "        \n",
    "        whatErinLikes:\"Guitar\" =  Guitar(\"\", 0, \"fender\", \"Stratocastor\", \n",
    "                                      \"electric\", \"Alder\", \"Alder\")\n",
    "        \n",
    "        guitar:\"Guitar\" = inventory.search(whatErinLikes)\n",
    "        \n",
    "        if guitar != None :\n",
    "            print(\"Erin, you might like this \" +\n",
    "            guitar.getBuilder() + \" \" + guitar.getModel() +  \" \" +\n",
    "            guitar.getType() + \" guitar:\\n   \" +\n",
    "            guitar.getBackWood() + \" back and sides,\\n   \" +\n",
    "            guitar.getTopWood() + \" top.\\nYou can have it for only $\" +\n",
    "            guitar.getPrice() + \"!\")\n",
    "        else:\n",
    "            print(\"Sorry, Erin, we have nothing for you.\")\n",
    "\n",
    "    def initializeInventory(self, inventory:Optional[\"Inventory\"]) -> None :\n",
    "        inventory.addGuitar(\"11277\", 3999.95, \"Collings\", \"CJ\", \"acoustic\",\n",
    "                            \"Indian Rosewood\", \"Sitka\")\n",
    "        inventory.addGuitar(\"V95693\", 1499.95, \"Fender\", \"Stratocastor\", \"electric\",\n",
    "                            \"Alder\", \"Alder\")\n",
    "        inventory.addGuitar(\"V9512\", 1549.95, \"Fender\", \"Stratocastor\", \"electric\",\n",
    "                            \"Alder\", \"Alder\");\n",
    "        inventory.addGuitar(\"122784\", 5495.95, \"Martin\", \"D-18\", \"acoustic\",\n",
    "                            \"Mahogany\", \"Adirondack\")\n",
    "        inventory.addGuitar(\"76531\", 6295.95, \"Martin\", \"OM-28\", \"acoustic\",\n",
    "                            \"Brazilian Rosewood\", \"Adriondack\")\n",
    "        inventory.addGuitar(\"70108276\", 2295.95, \"Gibson\", \"Les Paul\", \"electric\",\n",
    "                            \"Mahogany\", \"Maple\")\n",
    "        inventory.addGuitar(\"82765501\", 1890.95, \"Gibson\", \"SG '61 Reissue\",\n",
    "                            \"electric\", \"Mahogany\", \"Mahogany\")\n",
    "        inventory.addGuitar(\"77023\", 6275.95, \"Martin\", \"D-28\", \"acoustic\",\n",
    "                            \"Brazilian Rosewood\", \"Adirondack\")\n",
    "        inventory.addGuitar(\"1092\", 12995.95, \"Olson\", \"SJ\", \"acoustic\",\n",
    "                            \"Indian Rosewood\", \"Cedar\")\n",
    "        inventory.addGuitar(\"566-62\", 8999.95, \"Ryan\", \"Cathedral\", \"acoustic\",\n",
    "                            \"Cocobolo\", \"Cedar\")\n",
    "        inventory.addGuitar(\"6 29584\", 2100.95, \"PRS\", \"Dave Navarro Signature\",\n",
    "                            \"electric\", \"Mahogany\", \"Maple\")"
   ]
  },
  {
   "cell_type": "code",
   "execution_count": 13,
   "metadata": {},
   "outputs": [
    {
     "name": "stdout",
     "output_type": "stream",
     "text": [
      "Sorry, Erin, we have nothing for you.\n"
     ]
    }
   ],
   "source": [
    "test = FindGuitarTester()"
   ]
  },
  {
   "cell_type": "markdown",
   "metadata": {},
   "source": [
    "## The main problem is case in-sensetivity in comparasion.\n",
    "## So we will remove all those strings and the string comparisons. We will use enumerated types, we can ensure that only valid values for the parameters that contais strings are passed and accepted."
   ]
  },
  {
   "cell_type": "code",
   "execution_count": 126,
   "metadata": {},
   "outputs": [],
   "source": [
    "# create enum types\n",
    "\n",
    "\n",
    "class DefaultEnumMeta(EnumMeta):\n",
    "    default = object()\n",
    "\n",
    "    def __call__(cls, value=default, *args, **kwargs):\n",
    "        if value is DefaultEnumMeta.default:\n",
    "            # Assume the first enum is default\n",
    "            return next(iter(cls))\n",
    "        return super().__call__(value, *args, **kwargs)\n",
    "        # return super(DefaultEnumMeta, cls).__call__(value, *args, **kwargs) # PY2\n",
    "\n",
    "\n",
    "# @unique\n",
    "class Wood (Enum):\n",
    "\n",
    "  @classmethod\n",
    "  def _missing_(cls, value: object) -> Any:\n",
    "    return Wood.UNSPECIFIED\n",
    "  \n",
    "  INDIAN_ROSEWOOD:\"Wood\" = \"INDIAN_ROSEWOOD\".lower()\n",
    "  BRAZILIAN_ROSEWOOD:\"Wood\" = \"BRAZILIAN_ROSEWOOD\".lower()\n",
    "  MAHOGANY:\"Wood\" = \"MAHOGANY\".lower()\n",
    "  MAPLE:\"Wood\" = \"MAPLE\".lower()\n",
    "  COCOBOLO:\"Wood\" = \"COCOBOLO\".lower() \n",
    "  CEDAR:\"Wood\" = \"CEDAR\".lower(), \n",
    "  ADIRONDACK:\"Wood\" = \"ADIRONDACK\".lower() \n",
    "  ALDER:\"Wood\" = \"ALDER\".lower() \n",
    "  SITKA:\"Wood\" = \"SITKA\".lower()\n",
    "  UNSPECIFIED:\"Wood\" = \"UNSPECIFIED\".lower\n",
    "  \n",
    "\n",
    "    \n",
    "@unique\n",
    "class Type (Enum):\n",
    "  ACOUSTIC:'Type' = \"ACOUSTIC\".lower()\n",
    "  ELECTRIC:'Type' = \"ELECTRIC\".lower()\n",
    "\n",
    "@unique\n",
    "class Builder (Enum):\n",
    "  FENDER:'Builder' = \"FENDER\".lower()\n",
    "  MARTIN:'Builder' = \"MARTIN\".lower()\n",
    "  GIBSON:'Builder' = \"GIBSON\".lower()\n",
    "  COCOBOLO:'Builder' = \"COCOBOLO\".lower()\n",
    "  OLSON:'Builder' = \"OLSON\".lower()\n",
    "  RYAN:'Builder' = \"RYAN\".lower()\n",
    "  ANY:'Builder' = \"ANY\".lower()\n",
    "  \n",
    "# Get rid of all string comparisons\n"
   ]
  },
  {
   "cell_type": "code",
   "execution_count": 129,
   "metadata": {},
   "outputs": [
    {
     "ename": "AttributeError",
     "evalue": "ADIRONDACKs",
     "output_type": "error",
     "traceback": [
      "\u001b[1;31m---------------------------------------------------------------------------\u001b[0m",
      "\u001b[1;31mAttributeError\u001b[0m                            Traceback (most recent call last)",
      "\u001b[1;32m<ipython-input-129-e0ab14c19970>\u001b[0m in \u001b[0;36m<module>\u001b[1;34m\u001b[0m\n\u001b[1;32m----> 1\u001b[1;33m \u001b[0mWood\u001b[0m\u001b[1;33m.\u001b[0m\u001b[0mADIRONDACKs\u001b[0m\u001b[1;33m\u001b[0m\u001b[1;33m\u001b[0m\u001b[0m\n\u001b[0m",
      "\u001b[1;32m~\\AppData\\Local\\Programs\\Python\\Python39\\lib\\enum.py\u001b[0m in \u001b[0;36m__getattr__\u001b[1;34m(cls, name)\u001b[0m\n\u001b[0;32m    427\u001b[0m             \u001b[1;32mreturn\u001b[0m \u001b[0mcls\u001b[0m\u001b[1;33m.\u001b[0m\u001b[0m_member_map_\u001b[0m\u001b[1;33m[\u001b[0m\u001b[0mname\u001b[0m\u001b[1;33m]\u001b[0m\u001b[1;33m\u001b[0m\u001b[1;33m\u001b[0m\u001b[0m\n\u001b[0;32m    428\u001b[0m         \u001b[1;32mexcept\u001b[0m \u001b[0mKeyError\u001b[0m\u001b[1;33m:\u001b[0m\u001b[1;33m\u001b[0m\u001b[1;33m\u001b[0m\u001b[0m\n\u001b[1;32m--> 429\u001b[1;33m             \u001b[1;32mraise\u001b[0m \u001b[0mAttributeError\u001b[0m\u001b[1;33m(\u001b[0m\u001b[0mname\u001b[0m\u001b[1;33m)\u001b[0m \u001b[1;32mfrom\u001b[0m \u001b[1;32mNone\u001b[0m\u001b[1;33m\u001b[0m\u001b[1;33m\u001b[0m\u001b[0m\n\u001b[0m\u001b[0;32m    430\u001b[0m \u001b[1;33m\u001b[0m\u001b[0m\n\u001b[0;32m    431\u001b[0m     \u001b[1;32mdef\u001b[0m \u001b[0m__getitem__\u001b[0m\u001b[1;33m(\u001b[0m\u001b[0mcls\u001b[0m\u001b[1;33m,\u001b[0m \u001b[0mname\u001b[0m\u001b[1;33m)\u001b[0m\u001b[1;33m:\u001b[0m\u001b[1;33m\u001b[0m\u001b[1;33m\u001b[0m\u001b[0m\n",
      "\u001b[1;31mAttributeError\u001b[0m: ADIRONDACKs"
     ]
    }
   ],
   "source": [
    "Wood.ADIRONDACKs"
   ]
  },
  {
   "cell_type": "code",
   "execution_count": 128,
   "metadata": {},
   "outputs": [
    {
     "data": {
      "text/plain": [
       "'alder'"
      ]
     },
     "execution_count": 128,
     "metadata": {},
     "output_type": "execute_result"
    }
   ],
   "source": [
    "Wood(Wood.ALDER).value"
   ]
  },
  {
   "cell_type": "code",
   "execution_count": 149,
   "metadata": {},
   "outputs": [],
   "source": [
    "class G(Enum):\n",
    "    \n",
    "    @classmethod\n",
    "    def _missing_(cls, value: object) -> Any:\n",
    "        return G.a\n",
    "\n",
    "    a = 1\n",
    "    \n",
    "\n",
    "    "
   ]
  },
  {
   "cell_type": "code",
   "execution_count": 4,
   "metadata": {},
   "outputs": [],
   "source": [
    "import asyncio\n",
    "from asyncio import AbstractEventLoop\n",
    "from colorama import Fore\n",
    "from timeit import default_timer as timer\n",
    "\n",
    "async def print_fo(txt:str) -> None:\n",
    "    print(Fore.GREEN + txt + str(timer()), flush=True)\n",
    "\n",
    "async def wat(sec:float) -> None:\n",
    "    start = timer()\n",
    "    print(Fore.BLUE + \"Wait function has been called\" +str(sec) + ', At ' + str(start), flush=True)\n",
    "    await asyncio.sleep(sec)\n",
    "    print(Fore.CYAN + \"Wait function has been finished\" +str(sec) + \"took \" + str(timer() - start) + \" Seconds\", flush=True)\n",
    "\n",
    "def main():\n",
    "    print(Fore.Yellow + \"App has started\", flush=True)\n",
    "    loop: AbstractEventLoop = asyncio.get_event_loop()\n",
    "    task = asyncio.gather(\n",
    "        wat(0.8),\n",
    "        wat(1),\n",
    "        wat(0.5),\n",
    "        print_fo(\"first\"),\n",
    "        print_fo(\"second\"),\n",
    "        print_fo(\"third\"),\n",
    "        print_fo(\"fourth\"),\n",
    "        wat(0.1),\n",
    "        print_fo(\"fifth\"),\n",
    "    )\n",
    "    loop.run_until_complete(task)"
   ]
  },
  {
   "cell_type": "code",
   "execution_count": 5,
   "metadata": {},
   "outputs": [
    {
     "ename": "AttributeError",
     "evalue": "'AnsiFore' object has no attribute 'Yellow'",
     "output_type": "error",
     "traceback": [
      "\u001b[1;31m---------------------------------------------------------------------------\u001b[0m",
      "\u001b[1;31mAttributeError\u001b[0m                            Traceback (most recent call last)",
      "\u001b[1;32m<ipython-input-5-263240bbee7e>\u001b[0m in \u001b[0;36m<module>\u001b[1;34m\u001b[0m\n\u001b[1;32m----> 1\u001b[1;33m \u001b[0mmain\u001b[0m\u001b[1;33m(\u001b[0m\u001b[1;33m)\u001b[0m\u001b[1;33m\u001b[0m\u001b[1;33m\u001b[0m\u001b[0m\n\u001b[0m",
      "\u001b[1;32m<ipython-input-4-c558144437eb>\u001b[0m in \u001b[0;36mmain\u001b[1;34m()\u001b[0m\n\u001b[0;32m     14\u001b[0m \u001b[1;33m\u001b[0m\u001b[0m\n\u001b[0;32m     15\u001b[0m \u001b[1;32mdef\u001b[0m \u001b[0mmain\u001b[0m\u001b[1;33m(\u001b[0m\u001b[1;33m)\u001b[0m\u001b[1;33m:\u001b[0m\u001b[1;33m\u001b[0m\u001b[1;33m\u001b[0m\u001b[0m\n\u001b[1;32m---> 16\u001b[1;33m     \u001b[0mprint\u001b[0m\u001b[1;33m(\u001b[0m\u001b[0mFore\u001b[0m\u001b[1;33m.\u001b[0m\u001b[0mYellow\u001b[0m \u001b[1;33m+\u001b[0m \u001b[1;34m\"App has started\"\u001b[0m\u001b[1;33m,\u001b[0m \u001b[0mflush\u001b[0m\u001b[1;33m=\u001b[0m\u001b[1;32mTrue\u001b[0m\u001b[1;33m)\u001b[0m\u001b[1;33m\u001b[0m\u001b[1;33m\u001b[0m\u001b[0m\n\u001b[0m\u001b[0;32m     17\u001b[0m     \u001b[0mloop\u001b[0m\u001b[1;33m:\u001b[0m \u001b[0mAbstractEventLoop\u001b[0m \u001b[1;33m=\u001b[0m \u001b[0masyncio\u001b[0m\u001b[1;33m.\u001b[0m\u001b[0mget_event_loop\u001b[0m\u001b[1;33m(\u001b[0m\u001b[1;33m)\u001b[0m\u001b[1;33m\u001b[0m\u001b[1;33m\u001b[0m\u001b[0m\n\u001b[0;32m     18\u001b[0m     task = asyncio.gather(\n",
      "\u001b[1;31mAttributeError\u001b[0m: 'AnsiFore' object has no attribute 'Yellow'"
     ]
    }
   ],
   "source": [
    "main()"
   ]
  },
  {
   "cell_type": "code",
   "execution_count": 6,
   "metadata": {},
   "outputs": [],
   "source": [
    "class app:\n",
    "    def __init__(self):\n",
    "        pass\n",
    "\n"
   ]
  },
  {
   "cell_type": "code",
   "execution_count": 11,
   "metadata": {},
   "outputs": [
    {
     "data": {
      "text/plain": [
       "<function app.__format__(format_spec, /)>"
      ]
     },
     "execution_count": 11,
     "metadata": {},
     "output_type": "execute_result"
    }
   ],
   "source": [
    "a = app()\n",
    "a."
   ]
  },
  {
   "cell_type": "code",
   "execution_count": 8,
   "metadata": {},
   "outputs": [
    {
     "data": {
      "text/plain": [
       "mappingproxy({'__module__': '__main__',\n",
       "              '__init__': <function __main__.app.__init__(self)>,\n",
       "              '__dict__': <attribute '__dict__' of 'app' objects>,\n",
       "              '__weakref__': <attribute '__weakref__' of 'app' objects>,\n",
       "              '__doc__': None})"
      ]
     },
     "execution_count": 8,
     "metadata": {},
     "output_type": "execute_result"
    }
   ],
   "source": [
    "app.__dict__"
   ]
  },
  {
   "cell_type": "code",
   "execution_count": null,
   "metadata": {},
   "outputs": [],
   "source": []
  }
 ],
 "metadata": {
  "interpreter": {
   "hash": "48b0d93754f01b8cd096afaa5b79113d35e8de390bfd99a8a89ccbe21ec7019c"
  },
  "kernelspec": {
   "display_name": "Python 3.9.6 64-bit",
   "name": "python3"
  },
  "language_info": {
   "codemirror_mode": {
    "name": "ipython",
    "version": 3
   },
   "file_extension": ".py",
   "mimetype": "text/x-python",
   "name": "python",
   "nbconvert_exporter": "python",
   "pygments_lexer": "ipython3",
   "version": "3.9.6"
  },
  "orig_nbformat": 4
 },
 "nbformat": 4,
 "nbformat_minor": 2
}
